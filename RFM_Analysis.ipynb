{
 "cells": [
  {
   "cell_type": "markdown",
   "metadata": {},
   "source": [
    "<h1>Customer Segmentation using RFM Analysis</h1>"
   ]
  },
  {
   "cell_type": "code",
   "execution_count": 2,
   "metadata": {},
   "outputs": [],
   "source": [
    "import matplotlib as plt\n",
    "import pandas as pd\n",
    "import numpy as np"
   ]
  },
  {
   "cell_type": "code",
   "execution_count": 3,
   "metadata": {},
   "outputs": [
    {
     "data": {
      "text/plain": [
       "Order ID                int64\n",
       "Order Date             object\n",
       "Full Name (Billing)    object\n",
       "Phone (Billing)        object\n",
       "Order Total Amount      int64\n",
       "dtype: object"
      ]
     },
     "execution_count": 3,
     "metadata": {},
     "output_type": "execute_result"
    }
   ],
   "source": [
    "#change source file path\n",
    "df = pd.read_csv('C:/Users/toshiba/Desktop/AT&R/FP_src_RFM.csv')\n",
    "df.dtypes"
   ]
  },
  {
   "cell_type": "code",
   "execution_count": 4,
   "metadata": {},
   "outputs": [],
   "source": [
    "df['Customer ID'] = df['Phone (Billing)'].str[-7:]                 #this picks last 7 digits as ID\n",
    "df['Customer ID'] = 'FP' + df['Customer ID'].astype(str)           #this adds company prefix to the ID, 'FP' in this case"
   ]
  },
  {
   "cell_type": "code",
   "execution_count": 5,
   "metadata": {},
   "outputs": [
    {
     "data": {
      "text/plain": [
       "Order ID                int64\n",
       "Order Date             object\n",
       "Full Name (Billing)    object\n",
       "Phone (Billing)        object\n",
       "Order Total Amount      int64\n",
       "Customer ID            object\n",
       "dtype: object"
      ]
     },
     "execution_count": 5,
     "metadata": {},
     "output_type": "execute_result"
    }
   ],
   "source": [
    "df.dtypes"
   ]
  },
  {
   "cell_type": "code",
   "execution_count": 6,
   "metadata": {},
   "outputs": [],
   "source": [
    "#if Order data is not of date type, then change its data type\n",
    "df['Order Date'] = df['Order Date'].astype('datetime64[ns]')"
   ]
  },
  {
   "cell_type": "code",
   "execution_count": 7,
   "metadata": {},
   "outputs": [
    {
     "data": {
      "text/plain": [
       "Order ID                        int64\n",
       "Order Date             datetime64[ns]\n",
       "Full Name (Billing)            object\n",
       "Phone (Billing)                object\n",
       "Order Total Amount              int64\n",
       "Customer ID                    object\n",
       "dtype: object"
      ]
     },
     "execution_count": 7,
     "metadata": {},
     "output_type": "execute_result"
    }
   ],
   "source": [
    "df.dtypes"
   ]
  },
  {
   "cell_type": "code",
   "execution_count": 8,
   "metadata": {},
   "outputs": [],
   "source": [
    "#here monetary, recency, frequency, and avg. order values are calculated for each customer\n",
    "df['Avg Amount'] = df['Order Total Amount']\n",
    "df_RFM = df.groupby(['Customer ID', 'Full Name (Billing)']).agg({'Order Date': lambda y: (df['Order Date'].max().date() - y.max().date()).days,\n",
    "                                        'Order ID': lambda y: len(y.unique()),  \n",
    "                                        'Order Total Amount': lambda y: round(y.sum(),2),\n",
    "                                        'Avg Amount': lambda y: round(y.mean(), 2)})\n",
    "\n",
    "#this step is for renaming the columns\n",
    "df_RFM.columns = ['Recency', 'Frequency', 'Monetary', 'Avg. Order value']"
   ]
  },
  {
   "cell_type": "code",
   "execution_count": 9,
   "metadata": {},
   "outputs": [],
   "source": [
    "#creating quantiles for segmentation\n",
    "quantiles = df_RFM[['Recency', 'Frequency', 'Monetary']].quantile([.2, .4, .6, .8]).to_dict()"
   ]
  },
  {
   "cell_type": "code",
   "execution_count": 10,
   "metadata": {},
   "outputs": [],
   "source": [
    "#assigning RFM values to the quantiles\n",
    "\n",
    "def Rscore(x):\n",
    "    if x <= quantiles['Recency'][.2]:\n",
    "        return 5\n",
    "    elif x <= quantiles['Recency'][.4]:\n",
    "        return 4\n",
    "    elif x <= quantiles['Recency'][.6]:\n",
    "        return 3\n",
    "    elif x <= quantiles['Recency'][.8]:\n",
    "        return 2\n",
    "    else:\n",
    "        return 1\n",
    "    \n",
    "def FMscore(x, c):\n",
    "    if x <= quantiles[c][.2]:\n",
    "        return 1\n",
    "    elif x <= quantiles[c][.4]:\n",
    "        return 2\n",
    "    elif x <= quantiles[c][.6]:\n",
    "        return 3\n",
    "    elif x <= quantiles[c][.8]:\n",
    "        return 4\n",
    "    else:\n",
    "        return 5"
   ]
  },
  {
   "cell_type": "code",
   "execution_count": 11,
   "metadata": {},
   "outputs": [],
   "source": [
    "df_RFM['R'] = df_RFM['Recency'].apply(lambda x: Rscore(x))\n",
    "df_RFM['F'] = df_RFM['Frequency'].apply(lambda x: FMscore(x, 'Frequency'))\n",
    "df_RFM['M'] = df_RFM['Monetary'].apply(lambda x: FMscore(x, 'Monetary'))"
   ]
  },
  {
   "cell_type": "code",
   "execution_count": 12,
   "metadata": {},
   "outputs": [],
   "source": [
    "#calculating RFM Score\n",
    "df_RFM['RFM Score'] = df_RFM.R.map(str) + df_RFM.F.map(str) + df_RFM.M.map(str)"
   ]
  },
  {
   "cell_type": "code",
   "execution_count": 13,
   "metadata": {},
   "outputs": [],
   "source": [
    "#assigning segment names to different customers\n",
    "\n",
    "segt_map = {\n",
    "    r'[1-2][1-2]': 'Hibernating',\n",
    "    r'[1-2][3-4]': 'At Risk',\n",
    "    r'[1-2]5': 'Can\\'t Lose',\n",
    "    r'3[1-2]': 'About to Sleep',\n",
    "    r'33': 'Need Attention',\n",
    "    r'[3-4][4-5]': 'Loyal Customers',\n",
    "    r'41': 'Promising Customers',\n",
    "    r'51': 'New Customers',\n",
    "    r'[4-5][2-3]': 'Potential Loyal Customers',\n",
    "    r'5[4-5]': 'Best Customers'\n",
    "}\n",
    "\n",
    "df_RFM['Segment'] = df_RFM['R'].map(str) + df_RFM['F'].map(str)\n",
    "df_RFM['Segment'] = df_RFM['Segment'].replace(segt_map, regex=True)\n"
   ]
  },
  {
   "cell_type": "code",
   "execution_count": 14,
   "metadata": {},
   "outputs": [],
   "source": [
    "#change destination path\n",
    "df_RFM.to_csv('C:/Users/toshiba/Desktop/AT&R/FP_dest_RFM.csv')"
   ]
  }
 ],
 "metadata": {
  "kernelspec": {
   "display_name": "Python 3",
   "language": "python",
   "name": "python3"
  },
  "language_info": {
   "codemirror_mode": {
    "name": "ipython",
    "version": 3
   },
   "file_extension": ".py",
   "mimetype": "text/x-python",
   "name": "python",
   "nbconvert_exporter": "python",
   "pygments_lexer": "ipython3",
   "version": "3.7.3"
  }
 },
 "nbformat": 4,
 "nbformat_minor": 2
}
